{
 "cells": [
  {
   "attachments": {},
   "cell_type": "markdown",
   "metadata": {
    "collapsed": false,
    "jupyter": {
     "outputs_hidden": false
    }
   },
   "source": [
    "# Apriori Algorithm Recommendation System"
   ]
  },
  {
   "cell_type": "code",
   "execution_count": 1,
   "metadata": {
    "collapsed": false,
    "jupyter": {
     "outputs_hidden": false
    }
   },
   "outputs": [],
   "source": [
    "import numpy as np"
   ]
  },
  {
   "attachments": {},
   "cell_type": "markdown",
   "metadata": {
    "collapsed": false,
    "jupyter": {
     "outputs_hidden": false
    }
   },
   "source": [
    "## Preprocessing\n"
   ]
  },
  {
   "cell_type": "code",
   "execution_count": 2,
   "metadata": {},
   "outputs": [],
   "source": [
    "# read the data from the input file /data/video_games.txt \n",
    "data = np.zeros((4096, 47), dtype=np.dtype('U60'))\n",
    "\n",
    "with open('./data/video_games.txt', 'r') as video_games_file:\n",
    "    for line_idx, line in enumerate(video_games_file):\n",
    "        line = line.rstrip()\n",
    "        games = line.split(';')\n",
    "        for game_idx, game in enumerate(games):\n",
    "            data[line_idx][game_idx] = game"
   ]
  },
  {
   "cell_type": "code",
   "execution_count": 3,
   "metadata": {
    "collapsed": false,
    "jupyter": {
     "outputs_hidden": false
    }
   },
   "outputs": [
    {
     "data": {
      "text/plain": [
       "{\"Assassin's Creed Origins\": 0,\n",
       " 'Bastion': 1,\n",
       " 'Bloodborne': 2,\n",
       " 'Chrono Trigger': 3,\n",
       " 'Code Vein': 4,\n",
       " 'Crosscode': 5,\n",
       " 'Cyberpunk 2077': 6,\n",
       " 'Dark Souls 3': 7,\n",
       " 'Darkest Dungeon': 8,\n",
       " 'Diablo III': 9,\n",
       " 'Dragon Age: Inquisition': 10,\n",
       " 'Dragon Age: Origins': 11,\n",
       " 'Dragons Dogma: Dark Arisen': 12,\n",
       " 'Dying Light 2 Stay Human': 13,\n",
       " 'Elden Ring': 14,\n",
       " 'Fable II': 15,\n",
       " 'Fallout 4': 16,\n",
       " 'Fallout New Vegas': 17,\n",
       " 'Fire Emblem: Three Houses': 18,\n",
       " 'Genshin Impact': 19,\n",
       " 'Greedfall': 20,\n",
       " 'Grim Dawn': 21,\n",
       " 'Hades': 22,\n",
       " 'Hogwarts Legacy': 23,\n",
       " 'Horizon Zero Dawn': 24,\n",
       " 'Kingdom Come: Deliverance': 25,\n",
       " 'Kingdom Hearts 3': 26,\n",
       " 'Legend of Grimrock 2': 27,\n",
       " 'Mass Effect Legendary Edition': 28,\n",
       " 'Middle-Earth: Shadow of War': 29,\n",
       " 'NieR: Automata': 30,\n",
       " 'Path Of Exile': 31,\n",
       " 'Persona 5 Strikers': 32,\n",
       " 'Pillars of Eternity': 33,\n",
       " 'Scarlet Nexus': 34,\n",
       " 'Soulstice': 35,\n",
       " 'Stardew Valley': 36,\n",
       " 'Tales of Arise': 37,\n",
       " 'Tales of Berseria': 38,\n",
       " 'The Last Oricru': 39,\n",
       " 'The Legend of Zelda: Breath of the Wild': 40,\n",
       " 'The Outer Worlds': 41,\n",
       " 'The Witcher 3: Wild Hunt': 42,\n",
       " 'Torchlight 2': 43,\n",
       " 'Transistor': 44,\n",
       " 'Undertale': 45,\n",
       " 'Weird West': 46,\n",
       " 'Wolcen': 47,\n",
       " 'Yakuza Kiwami': 48}"
      ]
     },
     "execution_count": 3,
     "metadata": {},
     "output_type": "execute_result"
    }
   ],
   "source": [
    "# determine the unique items and create a dictionary that maps an item to its id\n",
    "unique_items = np.unique(data)\n",
    "unique_items = np.delete(unique_items, 0, axis=0) \n",
    "\n",
    "id_to_item = unique_items\n",
    "\n",
    "item_to_id = {}\n",
    "for idx, item in enumerate(id_to_item):\n",
    "    item_to_id[item] = idx\n",
    "\n",
    "item_to_id"
   ]
  },
  {
   "cell_type": "code",
   "execution_count": 4,
   "metadata": {},
   "outputs": [],
   "source": [
    "data = []\n",
    "\n",
    "with open('./data/video_games.txt', 'r') as video_games_file:\n",
    "    for line in video_games_file:\n",
    "        line = line.rstrip()\n",
    "        games = line.split(';')\n",
    "        line_data = []\n",
    "        for game in games:\n",
    "            line_data.append(game)\n",
    "        data.append(line_data)\n",
    "    "
   ]
  },
  {
   "cell_type": "code",
   "execution_count": 5,
   "metadata": {},
   "outputs": [
    {
     "data": {
      "text/plain": [
       "[...]"
      ]
     },
     "execution_count": 5,
     "metadata": {},
     "output_type": "execute_result"
    }
   ],
   "source": [
    "# map the items of the records to ids and sort each record\n",
    "mapped_records = [[item_to_id.get(item) for item in sorted(row)] for row in data]\n",
    "mapped_records"
   ]
  },
  {
   "attachments": {},
   "cell_type": "markdown",
   "metadata": {
    "collapsed": false,
    "jupyter": {
     "outputs_hidden": false
    }
   },
   "source": [
    "## Apriori algorithm implementation\n",
    "\n",
    "### Determine the frequent 1 itemsets\n"
   ]
  },
  {
   "cell_type": "code",
   "execution_count": 6,
   "metadata": {},
   "outputs": [],
   "source": [
    "# calculate the support of length-1 itemsets using Counter or defaultdict\n",
    "from collections import Counter\n",
    "l1_items = {}\n",
    "\n",
    "flattened_records = [item for line in mapped_records for item in line]\n",
    "\n",
    "counter = Counter(flattened_records)\n",
    "\n",
    "for item, count in counter.items():\n",
    "    l1_items[item] = count"
   ]
  },
  {
   "cell_type": "code",
   "execution_count": 7,
   "metadata": {
    "collapsed": false,
    "jupyter": {
     "outputs_hidden": false
    },
    "pycharm": {
     "is_executing": true
    }
   },
   "outputs": [
    {
     "data": {
      "text/plain": [
       "{0: 1035,\n",
       " 1: 373,\n",
       " 4: 1556,\n",
       " 20: 303,\n",
       " 22: 348,\n",
       " 27: 246,\n",
       " 31: 378,\n",
       " 32: 339,\n",
       " 33: 269,\n",
       " 41: 620,\n",
       " 44: 758,\n",
       " 11: 238,\n",
       " 13: 1489,\n",
       " 39: 251,\n",
       " 40: 298,\n",
       " 45: 248,\n",
       " 26: 415,\n",
       " 43: 980,\n",
       " 3: 228,\n",
       " 12: 680,\n",
       " 14: 1648,\n",
       " 18: 264,\n",
       " 28: 318,\n",
       " 34: 774,\n",
       " 35: 232,\n",
       " 38: 684,\n",
       " 46: 250,\n",
       " 2: 379,\n",
       " 15: 248,\n",
       " 19: 1046,\n",
       " 29: 667,\n",
       " 10: 329,\n",
       " 24: 340,\n",
       " 5: 363,\n",
       " 25: 753,\n",
       " 17: 389,\n",
       " 42: 303,\n",
       " 37: 390,\n",
       " 6: 1539,\n",
       " 21: 431,\n",
       " 23: 1654,\n",
       " 47: 319,\n",
       " 16: 1383,\n",
       " 48: 633,\n",
       " 9: 1052,\n",
       " 7: 1104,\n",
       " 36: 230}"
      ]
     },
     "execution_count": 7,
     "metadata": {},
     "output_type": "execute_result"
    }
   ],
   "source": [
    "# filter out the frequent length-1 itemsets with their support\n",
    "frequent_l1_items = {key: count for key, count in l1_items.items() if count >= 226 and key != None}\n",
    "frequent_l1_items"
   ]
  },
  {
   "cell_type": "code",
   "execution_count": 8,
   "metadata": {},
   "outputs": [],
   "source": [
    "# save the length-1 frequent items to frequent_items with their support\n",
    "frequent_items = frequent_l1_items"
   ]
  },
  {
   "attachments": {},
   "cell_type": "markdown",
   "metadata": {
    "collapsed": false,
    "jupyter": {
     "outputs_hidden": false
    }
   },
   "source": [
    "### Determine the frequent n itemsets"
   ]
  },
  {
   "cell_type": "code",
   "execution_count": 9,
   "metadata": {
    "collapsed": false,
    "jupyter": {
     "outputs_hidden": false
    }
   },
   "outputs": [],
   "source": [
    "# implement the apriori_gen algorithm based on the lecture slides\n",
    "def apriori_gen(itemsets):\n",
    "    k = len(itemsets[0])\n",
    "    candidates = []\n",
    "    # generate candidates\n",
    "    for p in range(len(itemsets)):\n",
    "        for q in range(p+1, len(itemsets)):\n",
    "            if k > 1:\n",
    "                subset_p = itemsets[p][:-1]\n",
    "                subset_q = itemsets[q][:-1]\n",
    "            else:                                 \n",
    "                subset_p = itemsets[p]\n",
    "                subset_q = itemsets[q]\n",
    "\n",
    "            if k>1 and subset_p == subset_q:\n",
    "                candidate = subset_p + (itemsets[p][-1],) + (itemsets[q][-1],)\n",
    "                candidates.append(candidate)\n",
    "            \n",
    "            elif k==1:\n",
    "                candidate = subset_p + subset_q\n",
    "                candidates.append(candidate)\n",
    "            \n",
    "    # prune the candidates and return them \n",
    "        # split into substrings and check all if frequent\n",
    "        if k > 1:\n",
    "            for candidate in candidates:\n",
    "                for i in range(len(candidate)):\n",
    "                    subset = candidate[:i] + candidate[i+1:]\n",
    "                    if (subset not in itemsets) and (candidate in candidates): candidates.remove(candidate)\n",
    "    \n",
    "    return candidates"
   ]
  },
  {
   "cell_type": "code",
   "execution_count": 10,
   "metadata": {
    "collapsed": false,
    "jupyter": {
     "outputs_hidden": false
    }
   },
   "outputs": [],
   "source": [
    "# implement an algorithm to calculate the support of the given itemset\n",
    "def calculate_support(itemset):\n",
    "    support = 0\n",
    "    for row in mapped_records:\n",
    "        contains_all_items = True\n",
    "        for item in itemset:\n",
    "            if item not in row: contains_all_items = False\n",
    "        if contains_all_items == True: support = support + 1\n",
    "\n",
    "    return support"
   ]
  },
  {
   "cell_type": "code",
   "execution_count": 11,
   "metadata": {
    "collapsed": false,
    "jupyter": {
     "outputs_hidden": false
    }
   },
   "outputs": [],
   "source": [
    "# set the initial candidates which will be used to generate the frequent length-2 itemsets\n",
    "candidates = [(key,) for key in frequent_l1_items.keys()]\n",
    "\n",
    "while True:\n",
    "    new_candidates = apriori_gen(candidates)\n",
    "    supports = map(calculate_support, new_candidates)\n",
    "\n",
    "    # filter out the frequent candidates\n",
    "    frequent_new_candidates = {}\n",
    "    for idx, supp in enumerate(supports):\n",
    "        if supp > 226 : frequent_new_candidates[new_candidates[idx]] = supp\n",
    "\n",
    "    if len(frequent_new_candidates) == 0 : break\n",
    "\n",
    "    # add the frequent candidates to frequent_items \n",
    "    frequent_items.update(frequent_new_candidates)\n",
    "\n",
    "    # replace candidates with the new ones\n",
    "    candidates = [itemset for itemset in frequent_new_candidates.keys()]"
   ]
  },
  {
   "attachments": {},
   "cell_type": "markdown",
   "metadata": {
    "collapsed": false,
    "jupyter": {
     "outputs_hidden": false
    }
   },
   "source": [
    "### Save results\n"
   ]
  },
  {
   "cell_type": "code",
   "execution_count": 12,
   "metadata": {
    "collapsed": false,
    "jupyter": {
     "outputs_hidden": false
    }
   },
   "outputs": [],
   "source": [
    "with open('patterns.txt', 'w') as patterns:\n",
    "    for ids in frequent_items.keys():\n",
    "        support = frequent_items.get(ids)\n",
    "        \n",
    "        games = \"\"\n",
    "        if isinstance(ids, int):\n",
    "            games = id_to_item[ids] + \";\"\n",
    "        else:\n",
    "            for id in ids:\n",
    "                games = games + id_to_item[id] + \";\"\n",
    "\n",
    "        patterns.write(str(support) + ':' + games[:-1] + '\\n')"
   ]
  },
  {
   "attachments": {},
   "cell_type": "markdown",
   "metadata": {
    "collapsed": false,
    "jupyter": {
     "outputs_hidden": false
    }
   },
   "source": [
    "## Recommendation Example"
   ]
  },
  {
   "cell_type": "code",
   "execution_count": 13,
   "metadata": {
    "collapsed": false,
    "jupyter": {
     "outputs_hidden": false
    },
    "pycharm": {
     "is_executing": true
    }
   },
   "outputs": [
    {
     "data": {
      "text/plain": [
       "{(4, 14, 34): 232, (13, 14, 34): 233, (14, 34, 6): 249, (14, 34, 23): 249}"
      ]
     },
     "execution_count": 13,
     "metadata": {},
     "output_type": "execute_result"
    }
   ],
   "source": [
    "game1 = item_to_id.get(\"Elden Ring\")\n",
    "game2 = item_to_id.get(\"Scarlet Nexus\")\n",
    "\n",
    "relevant_items = {}\n",
    "for itemset in frequent_items.keys():\n",
    "    if isinstance(itemset, int) or len(itemset)<3 : continue\n",
    "    if game1 in itemset and game2 in itemset:\n",
    "        relevant_items[itemset] = frequent_items.get(itemset)\n",
    "\n",
    "relevant_items"
   ]
  },
  {
   "cell_type": "code",
   "execution_count": 14,
   "metadata": {},
   "outputs": [
    {
     "data": {
      "text/plain": [
       "'Cyberpunk 2077'"
      ]
     },
     "execution_count": 14,
     "metadata": {},
     "output_type": "execute_result"
    }
   ],
   "source": [
    "id_to_item[6]"
   ]
  },
  {
   "cell_type": "code",
   "execution_count": 15,
   "metadata": {},
   "outputs": [
    {
     "data": {
      "text/plain": [
       "'Hogwarts Legacy'"
      ]
     },
     "execution_count": 15,
     "metadata": {},
     "output_type": "execute_result"
    }
   ],
   "source": [
    "id_to_item[23]"
   ]
  },
  {
   "cell_type": "code",
   "execution_count": 16,
   "metadata": {},
   "outputs": [
    {
     "data": {
      "text/plain": [
       "'Confidence: 0.7073863636363636'"
      ]
     },
     "execution_count": 16,
     "metadata": {},
     "output_type": "execute_result"
    }
   ],
   "source": [
    "conf = 249 / calculate_support([4,34])\n",
    "f\"Confidence: {conf}\""
   ]
  },
  {
   "attachments": {},
   "cell_type": "markdown",
   "metadata": {},
   "source": [
    "$conf(\\textrm{Elden Ring} \\cup \\textrm{Scarlet Nexus} \\Rightarrow \\textrm{Hogwarts Legacy}) = \\frac{supp(\\textrm{Elden Ring} \\cup \\textrm{Scarlet Nexus} \\cup \\textrm{Hogwarts Legacy})}{supp(\\textrm{Elden Ring} \\cup \\textrm{Scarlet Nexus})}$\n",
    "\n",
    "(analogically for Cyberpunk 2077)\n"
   ]
  },
  {
   "cell_type": "code",
   "execution_count": null,
   "metadata": {},
   "outputs": [],
   "source": []
  }
 ],
 "metadata": {
  "kernelspec": {
   "display_name": "Python 3 (ipykernel)",
   "language": "python",
   "name": "python3"
  },
  "language_info": {
   "codemirror_mode": {
    "name": "ipython",
    "version": 3
   },
   "file_extension": ".py",
   "mimetype": "text/x-python",
   "name": "python",
   "nbconvert_exporter": "python",
   "pygments_lexer": "ipython3",
   "version": "3.11.4"
  }
 },
 "nbformat": 4,
 "nbformat_minor": 4
}
